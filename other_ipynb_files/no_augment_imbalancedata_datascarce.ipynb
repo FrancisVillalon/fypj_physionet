{
 "cells": [
  {
   "cell_type": "code",
   "execution_count": null,
   "metadata": {},
   "outputs": [],
   "source": [
    "pip freeze \"requirements.txt\"\n"
   ]
  },
  {
   "cell_type": "code",
   "execution_count": 1,
   "metadata": {},
   "outputs": [
    {
     "name": "stderr",
     "output_type": "stream",
     "text": [
      "/home/francis/fypj_phys/ubuntu_venv/lib/python3.8/site-packages/pydub/utils.py:170: RuntimeWarning: Couldn't find ffmpeg or avconv - defaulting to ffmpeg, but may not work\n",
      "  warn(\"Couldn't find ffmpeg or avconv - defaulting to ffmpeg, but may not work\", RuntimeWarning)\n"
     ]
    }
   ],
   "source": [
    "import numpy as np\n",
    "import librosa \n",
    "import librosa.display\n",
    "import pandas as pd\n",
    "import soundfile as sf\n",
    "import sklearn\n",
    "import matplotlib.pyplot as plt\n",
    "from tqdm import tqdm\n",
    "from audiomentations import *\n",
    "import warnings\n",
    "import scipy.signal\n",
    "from pydub import AudioSegment\n",
    "warnings.simplefilter(action='ignore', category=FutureWarning)"
   ]
  },
  {
   "cell_type": "code",
   "execution_count": 2,
   "metadata": {},
   "outputs": [],
   "source": [
    "\n",
    "# for balancing\n",
    "def grab_id(amt,val_srs):\n",
    "    temp_idx=[]\n",
    "    temp_count=0\n",
    "    for i,k in val_srs.iteritems():\n",
    "        if temp_count >= amt:\n",
    "            break\n",
    "        else:\n",
    "            temp_count+=k\n",
    "            temp_idx.append(i)\n",
    "    return temp_idx\n",
    "\n",
    "# feature extraction functions\n",
    "def mfccs_features_extract(S,sr):\n",
    "    mfccs_features = librosa.feature.mfcc(y=S, sr=sr, n_mfcc= 40)\n",
    "    mfccs_features = librosa.decompose.nn_filter(mfccs_features)\n",
    "    mfccs_scaled_features = np.mean(mfccs_features.T, axis= 0)\n",
    "    return mfccs_scaled_features,mfccs_features\n"
   ]
  },
  {
   "cell_type": "code",
   "execution_count": 3,
   "metadata": {},
   "outputs": [],
   "source": [
    "# paths\n",
    "data_path = \"./1.0.1/\"\n",
    "augment_path = \"./1.0.1/training_data_balanced/\"\n",
    "records = data_path+ \"RECORDS\""
   ]
  },
  {
   "cell_type": "code",
   "execution_count": 4,
   "metadata": {},
   "outputs": [
    {
     "name": "stdout",
     "output_type": "stream",
     "text": [
      "Class distribution by patient id\n"
     ]
    },
    {
     "data": {
      "text/plain": [
       "Absent     0.737792\n",
       "Present    0.190021\n",
       "Unknown    0.072187\n",
       "Name: Murmur, dtype: float64"
      ]
     },
     "execution_count": 4,
     "metadata": {},
     "output_type": "execute_result"
    }
   ],
   "source": [
    "demographics = pd.read_csv(data_path+\"training_data.csv\")\n",
    "print(\"Class distribution by patient id\")\n",
    "demographics[\"Murmur\"].value_counts(normalize=True)"
   ]
  },
  {
   "cell_type": "code",
   "execution_count": 5,
   "metadata": {},
   "outputs": [
    {
     "name": "stdout",
     "output_type": "stream",
     "text": [
      "Class distribution by audio recordings\n",
      " Absent     2391\n",
      "Present     616\n",
      "Unknown     156\n",
      "Name: Murmur, dtype: int64\n",
      "\n",
      "Training set class distribution (Pre-Augment)\n",
      " Absent     2141\n",
      "Present     366\n",
      "Name: Murmur, dtype: int64\n",
      "\n",
      "Augmenting present class audio data\n",
      "\n",
      "                       filenames patient_id   Murmur Murmur locations\n",
      "16    training_data/14241_AV.wav      14241  Present      AV+MV+PV+TV\n",
      "17    training_data/14241_MV.wav      14241  Present      AV+MV+PV+TV\n",
      "18    training_data/14241_PV.wav      14241  Present      AV+MV+PV+TV\n",
      "19    training_data/14241_TV.wav      14241  Present      AV+MV+PV+TV\n",
      "20    training_data/14998_AV.wav      14998   Absent              NaN\n",
      "...                          ...        ...      ...              ...\n",
      "3158  training_data/85345_AV.wav      85345   Absent              NaN\n",
      "3159  training_data/85345_PV.wav      85345   Absent              NaN\n",
      "3160  training_data/85349_AV.wav      85349   Absent              NaN\n",
      "3161  training_data/85349_PV.wav      85349   Absent              NaN\n",
      "3162  training_data/85349_TV.wav      85349   Absent              NaN\n",
      "\n",
      "[2507 rows x 4 columns]\n"
     ]
    },
    {
     "name": "stderr",
     "output_type": "stream",
     "text": [
      "100%|██████████| 366/366 [00:00<00:00, 7167.27it/s]"
     ]
    },
    {
     "name": "stdout",
     "output_type": "stream",
     "text": [
      "\n",
      "Training set class distribution (Post Signal Augment)\n",
      " Absent     2141\n",
      "Present     299\n",
      "Name: Murmur, dtype: int64\n"
     ]
    },
    {
     "name": "stderr",
     "output_type": "stream",
     "text": [
      "\n"
     ]
    }
   ],
   "source": [
    "# read all audio recordings and augment\n",
    "with open(records,'r') as r:\n",
    "    filenames = r.readlines()\n",
    "\n",
    "    # dataframe containing audio recording path with corresponding patient_id\n",
    "    file_df = pd.DataFrame(filenames,columns=[\"filenames\"])\n",
    "    file_df[\"filenames\"] = file_df[\"filenames\"].str.strip() + '.wav'\n",
    "    file_df[\"patient_id\"] = file_df[\"filenames\"].str.split(\"/\").str[1]\n",
    "    file_df[\"patient_id\"] = file_df[\"patient_id\"].str.split(\"_\").str[0].astype(str)\n",
    "    # merge with demographics to enrich dataframe\n",
    "    demographics[\"Patient ID\"] = demographics[\"Patient ID\"].astype(str)\n",
    "    file_df = file_df.merge(\n",
    "        demographics[[\"Murmur\",\"Patient ID\",\"Murmur locations\"]],\n",
    "        how='left',\n",
    "        left_on='patient_id',\n",
    "        right_on='Patient ID'\n",
    "    )\n",
    "    file_df.pop(\"Patient ID\")\n",
    "# class distribution by audio recordings\n",
    "print(\"Class distribution by audio recordings\"+ \"\\n\" ,file_df[\"Murmur\"].value_counts()) #Heavily biased to absent class\n",
    "\n",
    "# grabbing only present and absent class\n",
    "file_df_present = file_df.loc[file_df[\"Murmur\"]==\"Present\"]\n",
    "file_df_absent = file_df.loc[file_df[\"Murmur\"]==\"Absent\"]\n",
    "\n",
    "# creating test df\n",
    "test_present_ids = grab_id(250,file_df_present[\"patient_id\"].value_counts())\n",
    "test_absent_ids = grab_id(250,file_df_absent[\"patient_id\"].value_counts())\n",
    "test_ids = test_absent_ids+test_present_ids\n",
    "test_df = file_df.loc[file_df[\"patient_id\"].isin(test_ids)]\n",
    "\n",
    "# create train df\n",
    "train_df = file_df.loc[~(file_df[\"patient_id\"].isin(test_ids)) & (file_df[\"Murmur\"] != \"Unknown\")]\n",
    "print(\"\\nTraining set class distribution (Pre-Augment)\\n\",train_df[\"Murmur\"].value_counts())\n",
    "print(\"\\nAugmenting present class audio data\\n\")\n",
    "print(train_df)\n",
    "# augmenting present class audio data\n",
    "filtered_train = train_df.loc[train_df[\"Murmur\"]!=\"Absent\"].copy()\n",
    "for i,k in tqdm(filtered_train.iterrows(),total=filtered_train.shape[0]):\n",
    "    list_of_murmur_locations = list(k[\"Murmur locations\"].split(\"+\"))\n",
    "    ausc_location = k[\"filenames\"].split(\"/\")[1].split(\".\")[0].split(\"_\")[1]\n",
    "    if ausc_location.strip() in list_of_murmur_locations:\n",
    "        pass\n",
    "    else:\n",
    "        train_df = train_df.drop(index=train_df.loc[train_df[\"filenames\"]==k[\"filenames\"]].index)\n",
    "train_df.pop(\"Murmur locations\")\n",
    "print(\"\\nTraining set class distribution (Post Signal Augment)\\n\",train_df[\"Murmur\"].value_counts())"
   ]
  },
  {
   "cell_type": "code",
   "execution_count": 6,
   "metadata": {},
   "outputs": [
    {
     "name": "stdout",
     "output_type": "stream",
     "text": [
      "\n",
      "Extracting features and augmenting present class mfcc spectogram\n",
      "\n"
     ]
    },
    {
     "name": "stderr",
     "output_type": "stream",
     "text": [
      "100%|██████████| 2440/2440 [04:03<00:00, 10.02it/s]"
     ]
    },
    {
     "name": "stdout",
     "output_type": "stream",
     "text": [
      "\n",
      "Training set class distribution (Post Spectrogram augment))\n",
      " Absent     2141\n",
      "Present     299\n",
      "Name: Murmur, dtype: int64\n"
     ]
    },
    {
     "name": "stderr",
     "output_type": "stream",
     "text": [
      "\n"
     ]
    }
   ],
   "source": [
    "train_df[\"data\"] = np.array(None)\n",
    "train_df = train_df.reset_index(drop=True)\n",
    "# extracting features and augmenting mfcc spectogram for training set\n",
    "print(\"\\nExtracting features and augmenting present class mfcc spectogram\\n\")\n",
    "for i,k in tqdm(train_df.copy().iterrows(),total=train_df.copy().shape[0]):\n",
    "    S,sr = librosa.load(augment_path+k[\"filenames\"],sr=4000)\n",
    "    scaled_mfccs , mfccs = mfccs_features_extract(S,sr)\n",
    "    train_df.loc[i,\"data\"] = scaled_mfccs\n",
    "print(\"\\nTraining set class distribution (Post Spectrogram augment))\\n\",train_df[\"Murmur\"].value_counts())"
   ]
  },
  {
   "cell_type": "code",
   "execution_count": null,
   "metadata": {},
   "outputs": [],
   "source": [
    "# class balancing for training set\n",
    "present_count = train_df[\"Murmur\"].value_counts()[1]\n",
    "print(\"Trim absent class data to match size of present class data and shuffle \")\n",
    "absent_ids = grab_id(present_count,train_df.loc[train_df[\"Murmur\"]==\"Absent\"][\"patient_id\"].value_counts())\n",
    "train_df = pd.concat([\n",
    "    train_df.loc[train_df[\"Murmur\"]==\"Present\"],\n",
    "    train_df.loc[(train_df[\"Murmur\"]==\"Absent\")&(train_df[\"patient_id\"].isin(absent_ids))]\n",
    "]).sample(frac=1)\n",
    "train_df = train_df.reset_index(drop=True)\n",
    "print(train_df[\"Murmur\"].value_counts())"
   ]
  },
  {
   "cell_type": "code",
   "execution_count": 7,
   "metadata": {},
   "outputs": [
    {
     "name": "stderr",
     "output_type": "stream",
     "text": [
      "/tmp/ipykernel_12800/529885081.py:1: SettingWithCopyWarning: \n",
      "A value is trying to be set on a copy of a slice from a DataFrame.\n",
      "Try using .loc[row_indexer,col_indexer] = value instead\n",
      "\n",
      "See the caveats in the documentation: https://pandas.pydata.org/pandas-docs/stable/user_guide/indexing.html#returning-a-view-versus-a-copy\n",
      "  test_df[\"data\"] = None\n",
      "100%|██████████| 500/500 [00:44<00:00, 11.21it/s]"
     ]
    },
    {
     "name": "stdout",
     "output_type": "stream",
     "text": [
      "\n",
      "Testing set class distribution (final)\n",
      " Present    250\n",
      "Absent     250\n",
      "Name: Murmur, dtype: int64\n"
     ]
    },
    {
     "name": "stderr",
     "output_type": "stream",
     "text": [
      "\n"
     ]
    }
   ],
   "source": [
    "\n",
    "test_df[\"data\"] = None\n",
    "test_df = test_df.reset_index(drop=True)\n",
    "for i,k in tqdm(test_df.copy().iterrows(),total=test_df.copy().shape[0]):\n",
    "    S,sr = librosa.load(data_path+k[\"filenames\"],sr=4000)\n",
    "    test_scaled_mfccs, test_melspect = mfccs_features_extract(S,sr)\n",
    "    test_df.loc[i,\"data\"] = test_scaled_mfccs\n",
    "test_df = test_df.sample(frac=1).reset_index()\n",
    "print(\"\\nTesting set class distribution (final)\\n\",test_df[\"Murmur\"].value_counts())"
   ]
  },
  {
   "cell_type": "code",
   "execution_count": 9,
   "metadata": {},
   "outputs": [],
   "source": [
    "# manual splitting and assigning data to variables\n",
    "X_test = np.array(test_df[\"data\"].tolist())\n",
    "X_train = np.array(train_df[\"data\"].tolist())\n",
    "y_test = test_df[\"Murmur\"]\n",
    "y_train = train_df[\"Murmur\"]\n",
    "\n",
    "\n",
    "# export data \n",
    "import pickle \n",
    "\n",
    "pickle_out_X_train = open(\"./1.0.1/pickled_data/X_train_imbalanced_noaug.pickle\",\"wb\")\n",
    "pickle.dump(X_train,pickle_out_X_train)\n",
    "pickle_out_X_train.close()\n",
    "\n",
    "pickle_out_X_test = open(\"./1.0.1/pickled_data/X_test_imbalanced_noaug.pickle\",\"wb\")\n",
    "pickle.dump(X_test,pickle_out_X_test)\n",
    "pickle_out_X_test.close()\n",
    "\n",
    "\n",
    "pickle_out_y_train = open(\"./1.0.1/pickled_data/y_train_imbalanced_noaug.pickle\",\"wb\")\n",
    "pickle.dump(y_train,pickle_out_y_train)\n",
    "pickle_out_y_train.close()\n",
    "\n",
    "pickle_out_y_test = open(\"./1.0.1/pickled_data/y_test_imbalanced_noaug.pickle\",\"wb\")\n",
    "pickle.dump(y_test,pickle_out_y_test)\n",
    "pickle_out_y_test.close()"
   ]
  },
  {
   "cell_type": "code",
   "execution_count": null,
   "metadata": {},
   "outputs": [],
   "source": [
    "X_test[0].shape"
   ]
  }
 ],
 "metadata": {
  "interpreter": {
   "hash": "b43543f65750abaf68843f05bc2f17d6c89e154a5075b0a110863194543eb828"
  },
  "kernelspec": {
   "display_name": "Python 3.8.10 ('ubuntu_venv': venv)",
   "language": "python",
   "name": "python3"
  },
  "language_info": {
   "codemirror_mode": {
    "name": "ipython",
    "version": 3
   },
   "file_extension": ".py",
   "mimetype": "text/x-python",
   "name": "python",
   "nbconvert_exporter": "python",
   "pygments_lexer": "ipython3",
   "version": "3.8.10"
  },
  "orig_nbformat": 4
 },
 "nbformat": 4,
 "nbformat_minor": 2
}
