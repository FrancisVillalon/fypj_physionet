{
 "cells": [
  {
   "cell_type": "code",
   "execution_count": null,
   "metadata": {},
   "outputs": [],
   "source": [
    "pip freeze \"requirements.txt\"\n"
   ]
  },
  {
   "cell_type": "code",
   "execution_count": null,
   "metadata": {},
   "outputs": [],
   "source": [
    "import numpy as np\n",
    "import librosa \n",
    "import librosa.display\n",
    "import pandas as pd\n",
    "import soundfile as sf\n",
    "import sklearn\n",
    "import matplotlib.pyplot as plt\n",
    "from tqdm import tqdm\n",
    "from audiomentations import *\n",
    "import warnings\n",
    "import scipy.signal\n",
    "from pydub import AudioSegment\n",
    "warnings.simplefilter(action='ignore', category=FutureWarning)"
   ]
  },
  {
   "cell_type": "code",
   "execution_count": null,
   "metadata": {},
   "outputs": [],
   "source": [
    "\n",
    "# for balancing\n",
    "def grab_id(amt,val_srs):\n",
    "    temp_idx=[]\n",
    "    temp_count=0\n",
    "    for i,k in val_srs.iteritems():\n",
    "        if temp_count >= amt:\n",
    "            break\n",
    "        else:\n",
    "            temp_count+=k\n",
    "            temp_idx.append(i)\n",
    "    return temp_idx\n",
    "\n",
    "# feature extraction functions\n",
    "def mfccs_features_extract(S,sr):\n",
    "    mfccs_features = librosa.feature.mfcc(y=S, sr=sr, n_mfcc= 40)\n",
    "    mfccs_features = librosa.decompose.nn_filter(mfccs_features)\n",
    "    mfccs_scaled_features = np.mean(mfccs_features.T, axis= 0)\n",
    "    return mfccs_scaled_features,mfccs_features\n"
   ]
  },
  {
   "cell_type": "code",
   "execution_count": null,
   "metadata": {},
   "outputs": [],
   "source": [
    "# paths\n",
    "data_path = \"./1.0.1/\"\n",
    "augment_path = \"./1.0.1/training_data_balanced/\"\n",
    "records = data_path+ \"RECORDS\""
   ]
  },
  {
   "cell_type": "code",
   "execution_count": null,
   "metadata": {},
   "outputs": [],
   "source": [
    "demographics = pd.read_csv(data_path+\"training_data.csv\")\n",
    "print(\"Class distribution by patient id\")\n",
    "demographics[\"Murmur\"].value_counts(normalize=True)"
   ]
  },
  {
   "cell_type": "code",
   "execution_count": null,
   "metadata": {},
   "outputs": [],
   "source": [
    "# read all audio recordings and augment\n",
    "with open(records,'r') as r:\n",
    "    filenames = r.readlines()\n",
    "\n",
    "    # dataframe containing audio recording path with corresponding patient_id\n",
    "    file_df = pd.DataFrame(filenames,columns=[\"filenames\"])\n",
    "    file_df[\"filenames\"] = file_df[\"filenames\"].str.strip() + '.wav'\n",
    "    file_df[\"patient_id\"] = file_df[\"filenames\"].str.split(\"/\").str[1]\n",
    "    file_df[\"patient_id\"] = file_df[\"patient_id\"].str.split(\"_\").str[0].astype(str)\n",
    "    # merge with demographics to enrich dataframe\n",
    "    demographics[\"Patient ID\"] = demographics[\"Patient ID\"].astype(str)\n",
    "    file_df = file_df.merge(\n",
    "        demographics[[\"Murmur\",\"Patient ID\",\"Murmur locations\"]],\n",
    "        how='left',\n",
    "        left_on='patient_id',\n",
    "        right_on='Patient ID'\n",
    "    )\n",
    "    file_df.pop(\"Patient ID\")\n",
    "# class distribution by audio recordings\n",
    "print(\"Class distribution by audio recordings\"+ \"\\n\" ,file_df[\"Murmur\"].value_counts()) #Heavily biased to absent class\n",
    "\n",
    "# grabbing only present and absent class\n",
    "file_df_present = file_df.loc[file_df[\"Murmur\"]==\"Present\"]\n",
    "file_df_absent = file_df.loc[file_df[\"Murmur\"]==\"Absent\"]\n",
    "file_df_unknown = file_df.loc[file_df[\"Murmur\"]==\"Unknown\"]\n",
    "\n",
    "# creating test df\n",
    "test_present_ids = grab_id(250,file_df_present[\"patient_id\"].value_counts())\n",
    "test_absent_ids = grab_id(250,file_df_absent[\"patient_id\"].value_counts())\n",
    "test_unknown_ids = grab_id(50,file_df_unknown[\"patient_id\"].value_counts())\n",
    "test_ids = test_absent_ids+test_present_ids + test_unknown_ids\n",
    "test_df = file_df.loc[file_df[\"patient_id\"].isin(test_ids)]\n",
    "\n",
    "# create train df\n",
    "train_df = file_df.loc[~(file_df[\"patient_id\"].isin(test_ids))]\n",
    "print(\"\\nTraining set class distribution (Pre-Augment)\\n\",train_df[\"Murmur\"].value_counts())\n",
    "print(\"\\nAugmenting present class audio data\\n\")\n",
    "print(train_df)\n",
    "# augmenting present class audio data\n",
    "filtered_train = train_df.loc[train_df[\"Murmur\"]!=\"Absent\"].copy()\n",
    "for i,k in tqdm(filtered_train.iterrows(),total=filtered_train.shape[0]):\n",
    "    list_of_murmur_locations = list(k[\"Murmur locations\"].split(\"+\"))\n",
    "    ausc_location = k[\"filenames\"].split(\"/\")[1].split(\".\")[0].split(\"_\")[1]\n",
    "    if ausc_location.strip() in list_of_murmur_locations:\n",
    "        pass\n",
    "    else:\n",
    "        train_df = train_df.drop(index=train_df.loc[train_df[\"filenames\"]==k[\"filenames\"]].index)\n",
    "train_df.pop(\"Murmur locations\")\n",
    "print(\"\\nTraining set class distribution (Post Signal Augment)\\n\",train_df[\"Murmur\"].value_counts())"
   ]
  },
  {
   "cell_type": "code",
   "execution_count": null,
   "metadata": {},
   "outputs": [],
   "source": [
    "train_df[\"data\"] = np.array(None)\n",
    "train_df = train_df.reset_index(drop=True)\n",
    "# extracting features and augmenting mfcc spectogram for training set\n",
    "print(\"\\nExtracting features and augmenting present class mfcc spectogram\\n\")\n",
    "for i,k in tqdm(train_df.copy().iterrows(),total=train_df.copy().shape[0]):\n",
    "    S,sr = librosa.load(augment_path+k[\"filenames\"],sr=4000)\n",
    "    scaled_mfccs , mfccs = mfccs_features_extract(S,sr)\n",
    "    train_df.loc[i,\"data\"] = scaled_mfccs\n",
    "print(\"\\nTraining set class distribution (Post Spectrogram augment))\\n\",train_df[\"Murmur\"].value_counts())"
   ]
  },
  {
   "cell_type": "code",
   "execution_count": null,
   "metadata": {},
   "outputs": [],
   "source": [
    "\n",
    "test_df[\"data\"] = None\n",
    "test_df = test_df.reset_index(drop=True)\n",
    "for i,k in tqdm(test_df.copy().iterrows(),total=test_df.copy().shape[0]):\n",
    "    S,sr = librosa.load(data_path+k[\"filenames\"],sr=4000)\n",
    "    test_scaled_mfccs, test_melspect = mfccs_features_extract(S,sr)\n",
    "    test_df.loc[i,\"data\"] = test_scaled_mfccs\n",
    "test_df = test_df.sample(frac=1).reset_index()\n",
    "print(\"\\nTesting set class distribution (final)\\n\",test_df[\"Murmur\"].value_counts())"
   ]
  },
  {
   "cell_type": "code",
   "execution_count": null,
   "metadata": {},
   "outputs": [],
   "source": [
    "# manual splitting and assigning data to variables\n",
    "X_test = np.array(test_df[\"data\"].tolist())\n",
    "X_train = np.array(train_df[\"data\"].tolist())\n",
    "y_test = test_df[\"Murmur\"]\n",
    "y_train = train_df[\"Murmur\"]\n",
    "\n",
    "\n",
    "# export data \n",
    "import pickle \n",
    "\n",
    "pickle_out_X_train = open(\"./1.0.1/pickled_data/X_train_imbalanced_noaug_unknown.pickle\",\"wb\")\n",
    "pickle.dump(X_train,pickle_out_X_train)\n",
    "pickle_out_X_train.close()\n",
    "\n",
    "pickle_out_X_test = open(\"./1.0.1/pickled_data/X_test_imbalanced_noaug_unknown.pickle\",\"wb\")\n",
    "pickle.dump(X_test,pickle_out_X_test)\n",
    "pickle_out_X_test.close()\n",
    "\n",
    "\n",
    "pickle_out_y_train = open(\"./1.0.1/pickled_data/y_train_imbalanced_noaug_unknown.pickle\",\"wb\")\n",
    "pickle.dump(y_train,pickle_out_y_train)\n",
    "pickle_out_y_train.close()\n",
    "\n",
    "pickle_out_y_test = open(\"./1.0.1/pickled_data/y_test_imbalanced_noaug_unknown.pickle\",\"wb\")\n",
    "pickle.dump(y_test,pickle_out_y_test)\n",
    "pickle_out_y_test.close()"
   ]
  },
  {
   "cell_type": "code",
   "execution_count": null,
   "metadata": {},
   "outputs": [],
   "source": [
    "X_test[0].shape"
   ]
  }
 ],
 "metadata": {
  "interpreter": {
   "hash": "b43543f65750abaf68843f05bc2f17d6c89e154a5075b0a110863194543eb828"
  },
  "kernelspec": {
   "display_name": "Python 3.8.10 ('ubuntu_venv': venv)",
   "language": "python",
   "name": "python3"
  },
  "language_info": {
   "codemirror_mode": {
    "name": "ipython",
    "version": 3
   },
   "file_extension": ".py",
   "mimetype": "text/x-python",
   "name": "python",
   "nbconvert_exporter": "python",
   "pygments_lexer": "ipython3",
   "version": "3.8.10"
  },
  "orig_nbformat": 4
 },
 "nbformat": 4,
 "nbformat_minor": 2
}
